{
 "cells": [
  {
   "cell_type": "markdown",
   "metadata": {},
   "source": [
    "## Alexandre Theophile Vandermonde-Function so that columns of output matrix are increasing powers of input vector\n",
    "\n",
    "## Solution:\n",
    "* Write a method vandermonde_matrix which takes three argument, numpy array,  N as number of columns, boolean increasing, if false powers are taken for the vector in the order N-1 to 0, if true, powers are taken for the vectory in the order 0 to N -1\n",
    "* In the method range is determined (N-1 to 0) or (0 to N-1) based on increasing.\n",
    "* Initialize output_matrix an empty array\n",
    "* Iterate over the range, for each iteration, take the vector element to power of iteration value and concate the resultant vector to output vector\n",
    "* Reshape output_matrix using N and input_vector size and transpose the matrix so that resulting matrix has dimensions ((Number of elements in input x N)\n",
    "\n",
    "\n",
    "\n",
    "\n"
   ]
  },
  {
   "cell_type": "code",
   "execution_count": 51,
   "metadata": {},
   "outputs": [],
   "source": [
    "import numpy as np\n",
    "\n",
    "# Function vandermonde_matrix hich takes three argument, numpy array,  N as number of columns,\n",
    "# boolean increasing, if false powers are taken for the vector in the order N-1 to 0, if true,\n",
    "#powers are taken for the vectory in the order 0 to N -1\n",
    "def vandermonde_matrix(input, N=None, increasing=False):\n",
    "    input_vector = input\n",
    "    # If N is None, initialize N to shape of input_vector\n",
    "    if N is None:\n",
    "        N = input_vector.shape[0]\n",
    "    r = None\n",
    "    \n",
    "    # if incresing is False, assign r descreasing order from N-1 to 0\n",
    "    # if incresing is True, assign r descreasing order from 0 to N-1\n",
    "    if increasing == False :\n",
    "        r = range(N-1, -1, -1)\n",
    "    else:\n",
    "        r = range(0, N)\n",
    "    \n",
    "    # Initialize output_mtrix\n",
    "    output_matrix = np.array([])\n",
    "    \n",
    "    # For each in in  r, calculate the input_vector to the power i and concatenate\n",
    "    # to the output_matirx\n",
    "    for i in r:\n",
    "        output_matrix = np.concatenate((output_matrix, input_vector ** i), axis = 0)\n",
    "        \n",
    "    # Return the output_matrxi by reshaping and trasposing so that resulting\n",
    "    # matrix has dimensions (Number of elements in input x N)\n",
    "    return output_matrix.reshape(N, input_vector.shape[0]).T  \n",
    "\n"
   ]
  },
  {
   "cell_type": "code",
   "execution_count": 52,
   "metadata": {},
   "outputs": [
    {
     "name": "stdout",
     "output_type": "stream",
     "text": [
      "[[ 1.  1.  1.]\n",
      " [ 4.  2.  1.]\n",
      " [ 9.  3.  1.]\n",
      " [25.  5.  1.]]\n"
     ]
    }
   ],
   "source": [
    "# Tescase1: calculate vandermonde_matrix with N = 3 increasing = False\n",
    "x = np.array([1, 2, 3, 5])\n",
    "output = vandermonde_matrix(x, 3)\n",
    "print(output)"
   ]
  },
  {
   "cell_type": "code",
   "execution_count": 53,
   "metadata": {},
   "outputs": [
    {
     "name": "stdout",
     "output_type": "stream",
     "text": [
      "[[  1.   3.   9.]\n",
      " [  1.  -2.   4.]\n",
      " [  1.  12. 144.]\n",
      " [  1.   5.  25.]\n",
      " [  1.   8.  64.]\n",
      " [  1.  19. 361.]]\n"
     ]
    }
   ],
   "source": [
    "# Tescase2: calculate vandermonde_matrix with N=4 increasing = True\n",
    "x = np.array([3, -2, 12, 5, 8, 19])\n",
    "output = vandermonde_matrix(x, 3, increasing=True)\n",
    "print(output)"
   ]
  },
  {
   "cell_type": "code",
   "execution_count": 54,
   "metadata": {},
   "outputs": [
    {
     "name": "stdout",
     "output_type": "stream",
     "text": [
      "[[  1.   1.   1.   1.]\n",
      " [  8.   4.   2.   1.]\n",
      " [ 27.   9.   3.   1.]\n",
      " [125.  25.   5.   1.]]\n"
     ]
    }
   ],
   "source": [
    "# Tescase3: calculate vandermonde_matrix with N = None increasing = False\n",
    "x = np.array([1, 2, 3, 5])\n",
    "output = vandermonde_matrix(x)\n",
    "print(output)"
   ]
  },
  {
   "cell_type": "code",
   "execution_count": null,
   "metadata": {},
   "outputs": [],
   "source": []
  }
 ],
 "metadata": {
  "kernelspec": {
   "display_name": "Python 3",
   "language": "python",
   "name": "python3"
  },
  "language_info": {
   "codemirror_mode": {
    "name": "ipython",
    "version": 3
   },
   "file_extension": ".py",
   "mimetype": "text/x-python",
   "name": "python",
   "nbconvert_exporter": "python",
   "pygments_lexer": "ipython3",
   "version": "3.6.4"
  }
 },
 "nbformat": 4,
 "nbformat_minor": 2
}
